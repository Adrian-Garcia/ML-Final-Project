{
 "cells": [
  {
   "cell_type": "markdown",
   "metadata": {},
   "source": [
    "|-------------------------------|-------------------------------|-----------------------------|\n",
    "|:--                            |              :----:           |                        :---:|\n",
    "|**Machine Learning**           |Dr. Hector Ceballos            |Dr. Neil Hernández           |\n",
    "|**First Partial Exam**         |Adrián García López            |Sharif Nasser Kadamani       |\n",
    "|18 / 09 / 2020                 |A01351166                      |A00820367                    |\n",
    "|-------------------------------|-------------------------------|-----------------------------|"
   ]
  },
  {
   "cell_type": "markdown",
   "metadata": {},
   "source": [
    "# Initialize analysis"
   ]
  },
  {
   "cell_type": "markdown",
   "metadata": {},
   "source": [
    "## Import required modules"
   ]
  },
  {
   "cell_type": "code",
   "execution_count": 1,
   "metadata": {},
   "outputs": [],
   "source": [
    "import pandas as pd\n",
    "import matplotlib.pyplot as plt\n",
    "import numpy as np\n",
    "import seaborn as sns"
   ]
  },
  {
   "cell_type": "markdown",
   "metadata": {},
   "source": [
    "## Load data"
   ]
  },
  {
   "cell_type": "code",
   "execution_count": 2,
   "metadata": {
    "tags": []
   },
   "outputs": [],
   "source": [
    "# Load dataset\n",
    "df = pd.read_csv(\"ECOAS_MachineLearning_202013_puntajes.csv\", encoding=\"latin-1\")\n",
    "\n",
    "'''\n",
    "Classification of DocumentSentiment according to its value. \n",
    "(Changes from qualitative to quantitative variable)\n",
    "\n",
    "    Excellent   E\n",
    "    Good        G\n",
    "    Regular     R\n",
    "    Bad         B\n",
    "'''\n",
    "df['DocumentSentiment'] = np.where(df['DocumentSentiment'] > 0.50, 4, df['DocumentSentiment'])\n",
    "df['DocumentSentiment'] = np.where(np.logical_and(df['DocumentSentiment'] <= 0.50, df['DocumentSentiment'] > 0), 3, df['DocumentSentiment'])\n",
    "df['DocumentSentiment'] = np.where(np.logical_and(df['DocumentSentiment'] <= 0, df['DocumentSentiment'] > -0.50), 2, df['DocumentSentiment'])\n",
    "df['DocumentSentiment'] = np.where(df['DocumentSentiment'] <= -0.50, 1, df['DocumentSentiment'])\n",
    "\n",
    "df['DocumentSentiment'] = np.where(df['DocumentSentiment'] == 4.0, 'E', df['DocumentSentiment'])\n",
    "df['DocumentSentiment'] = np.where(df['DocumentSentiment'] == \"3.0\", 'G', df['DocumentSentiment'])\n",
    "df['DocumentSentiment'] = np.where(df['DocumentSentiment'] == \"2.0\", 'R', df['DocumentSentiment'])\n",
    "df['DocumentSentiment'] = np.where(df['DocumentSentiment'] == \"1.0\", 'B', df['DocumentSentiment'])\n",
    "\n",
    "df = df.drop(['ID', 'Rectoría', 'Campus', 'Tamaño', 'Latitud', 'Longitud', 'División', \n",
    "              'Departamento', 'AnonMateria', 'crn', 'Pregunta', 'NominaFict', 'TipoProfesor',\n",
    "              'ProfesorTitular', 'Comentarios', 'sentimiento', 'Categoria', 'Subcategoria', \n",
    "              'EntitiesList'], axis=1)\n",
    "\n",
    "# Get target and feature names\n",
    "target_names = df['DocumentSentiment'].unique().tolist()\n",
    "feature_names = ['APR', 'RET', 'REC']\n",
    "\n",
    "# Get number of features and target names\n",
    "n_targets = len(target_names)\n",
    "n_features = len(feature_names)\n",
    "\n",
    "# Separate features and target columns\n",
    "X = df[feature_names]\n",
    "y = df['DocumentSentiment']"
   ]
  },
  {
   "cell_type": "markdown",
   "metadata": {},
   "source": [
    "# Exploratory Data Analysis"
   ]
  },
  {
   "cell_type": "markdown",
   "metadata": {},
   "source": [
    "## Visualize quick info from data"
   ]
  },
  {
   "cell_type": "code",
   "execution_count": 3,
   "metadata": {},
   "outputs": [
    {
     "data": {
      "text/html": [
       "<div>\n",
       "<style scoped>\n",
       "    .dataframe tbody tr th:only-of-type {\n",
       "        vertical-align: middle;\n",
       "    }\n",
       "\n",
       "    .dataframe tbody tr th {\n",
       "        vertical-align: top;\n",
       "    }\n",
       "\n",
       "    .dataframe thead th {\n",
       "        text-align: right;\n",
       "    }\n",
       "</style>\n",
       "<table border=\"1\" class=\"dataframe\">\n",
       "  <thead>\n",
       "    <tr style=\"text-align: right;\">\n",
       "      <th></th>\n",
       "      <th>DocumentSentiment</th>\n",
       "      <th>APR</th>\n",
       "      <th>RET</th>\n",
       "      <th>REC</th>\n",
       "    </tr>\n",
       "  </thead>\n",
       "  <tbody>\n",
       "    <tr>\n",
       "      <th>0</th>\n",
       "      <td>G</td>\n",
       "      <td>9.59</td>\n",
       "      <td>9.67</td>\n",
       "      <td>9.41</td>\n",
       "    </tr>\n",
       "    <tr>\n",
       "      <th>1</th>\n",
       "      <td>G</td>\n",
       "      <td>9.59</td>\n",
       "      <td>9.67</td>\n",
       "      <td>9.41</td>\n",
       "    </tr>\n",
       "    <tr>\n",
       "      <th>2</th>\n",
       "      <td>R</td>\n",
       "      <td>9.59</td>\n",
       "      <td>9.67</td>\n",
       "      <td>9.41</td>\n",
       "    </tr>\n",
       "    <tr>\n",
       "      <th>3</th>\n",
       "      <td>G</td>\n",
       "      <td>9.59</td>\n",
       "      <td>9.67</td>\n",
       "      <td>9.41</td>\n",
       "    </tr>\n",
       "    <tr>\n",
       "      <th>4</th>\n",
       "      <td>G</td>\n",
       "      <td>9.59</td>\n",
       "      <td>9.67</td>\n",
       "      <td>9.41</td>\n",
       "    </tr>\n",
       "    <tr>\n",
       "      <th>5</th>\n",
       "      <td>G</td>\n",
       "      <td>9.59</td>\n",
       "      <td>9.67</td>\n",
       "      <td>9.41</td>\n",
       "    </tr>\n",
       "    <tr>\n",
       "      <th>6</th>\n",
       "      <td>G</td>\n",
       "      <td>9.59</td>\n",
       "      <td>9.67</td>\n",
       "      <td>9.41</td>\n",
       "    </tr>\n",
       "    <tr>\n",
       "      <th>7</th>\n",
       "      <td>G</td>\n",
       "      <td>9.59</td>\n",
       "      <td>9.67</td>\n",
       "      <td>9.41</td>\n",
       "    </tr>\n",
       "    <tr>\n",
       "      <th>8</th>\n",
       "      <td>R</td>\n",
       "      <td>9.59</td>\n",
       "      <td>9.67</td>\n",
       "      <td>9.41</td>\n",
       "    </tr>\n",
       "    <tr>\n",
       "      <th>9</th>\n",
       "      <td>R</td>\n",
       "      <td>9.59</td>\n",
       "      <td>9.67</td>\n",
       "      <td>9.41</td>\n",
       "    </tr>\n",
       "  </tbody>\n",
       "</table>\n",
       "</div>"
      ],
      "text/plain": [
       "  DocumentSentiment   APR   RET   REC\n",
       "0                 G  9.59  9.67  9.41\n",
       "1                 G  9.59  9.67  9.41\n",
       "2                 R  9.59  9.67  9.41\n",
       "3                 G  9.59  9.67  9.41\n",
       "4                 G  9.59  9.67  9.41\n",
       "5                 G  9.59  9.67  9.41\n",
       "6                 G  9.59  9.67  9.41\n",
       "7                 G  9.59  9.67  9.41\n",
       "8                 R  9.59  9.67  9.41\n",
       "9                 R  9.59  9.67  9.41"
      ]
     },
     "execution_count": 3,
     "metadata": {},
     "output_type": "execute_result"
    }
   ],
   "source": [
    "df.head(10)"
   ]
  },
  {
   "cell_type": "code",
   "execution_count": 4,
   "metadata": {},
   "outputs": [
    {
     "data": {
      "text/html": [
       "<div>\n",
       "<style scoped>\n",
       "    .dataframe tbody tr th:only-of-type {\n",
       "        vertical-align: middle;\n",
       "    }\n",
       "\n",
       "    .dataframe tbody tr th {\n",
       "        vertical-align: top;\n",
       "    }\n",
       "\n",
       "    .dataframe thead th {\n",
       "        text-align: right;\n",
       "    }\n",
       "</style>\n",
       "<table border=\"1\" class=\"dataframe\">\n",
       "  <thead>\n",
       "    <tr style=\"text-align: right;\">\n",
       "      <th></th>\n",
       "      <th>APR</th>\n",
       "      <th>RET</th>\n",
       "      <th>REC</th>\n",
       "    </tr>\n",
       "  </thead>\n",
       "  <tbody>\n",
       "    <tr>\n",
       "      <th>count</th>\n",
       "      <td>69983.000000</td>\n",
       "      <td>69983.000000</td>\n",
       "      <td>69983.000000</td>\n",
       "    </tr>\n",
       "    <tr>\n",
       "      <th>mean</th>\n",
       "      <td>8.936814</td>\n",
       "      <td>9.074867</td>\n",
       "      <td>8.622936</td>\n",
       "    </tr>\n",
       "    <tr>\n",
       "      <th>std</th>\n",
       "      <td>0.842533</td>\n",
       "      <td>0.682638</td>\n",
       "      <td>1.161023</td>\n",
       "    </tr>\n",
       "    <tr>\n",
       "      <th>min</th>\n",
       "      <td>0.000000</td>\n",
       "      <td>0.000000</td>\n",
       "      <td>0.000000</td>\n",
       "    </tr>\n",
       "    <tr>\n",
       "      <th>25%</th>\n",
       "      <td>8.600000</td>\n",
       "      <td>8.800000</td>\n",
       "      <td>8.095000</td>\n",
       "    </tr>\n",
       "    <tr>\n",
       "      <th>50%</th>\n",
       "      <td>9.150000</td>\n",
       "      <td>9.230000</td>\n",
       "      <td>8.930000</td>\n",
       "    </tr>\n",
       "    <tr>\n",
       "      <th>75%</th>\n",
       "      <td>9.500000</td>\n",
       "      <td>9.530000</td>\n",
       "      <td>9.450000</td>\n",
       "    </tr>\n",
       "    <tr>\n",
       "      <th>max</th>\n",
       "      <td>10.000000</td>\n",
       "      <td>10.000000</td>\n",
       "      <td>10.000000</td>\n",
       "    </tr>\n",
       "  </tbody>\n",
       "</table>\n",
       "</div>"
      ],
      "text/plain": [
       "                APR           RET           REC\n",
       "count  69983.000000  69983.000000  69983.000000\n",
       "mean       8.936814      9.074867      8.622936\n",
       "std        0.842533      0.682638      1.161023\n",
       "min        0.000000      0.000000      0.000000\n",
       "25%        8.600000      8.800000      8.095000\n",
       "50%        9.150000      9.230000      8.930000\n",
       "75%        9.500000      9.530000      9.450000\n",
       "max       10.000000     10.000000     10.000000"
      ]
     },
     "execution_count": 4,
     "metadata": {},
     "output_type": "execute_result"
    }
   ],
   "source": [
    "df.describe()"
   ]
  },
  {
   "cell_type": "code",
   "execution_count": 5,
   "metadata": {
    "tags": []
   },
   "outputs": [
    {
     "name": "stdout",
     "output_type": "stream",
     "text": [
      "<class 'pandas.core.frame.DataFrame'>\n",
      "RangeIndex: 69983 entries, 0 to 69982\n",
      "Data columns (total 4 columns):\n",
      " #   Column             Non-Null Count  Dtype  \n",
      "---  ------             --------------  -----  \n",
      " 0   DocumentSentiment  69983 non-null  object \n",
      " 1   APR                69983 non-null  float64\n",
      " 2   RET                69983 non-null  float64\n",
      " 3   REC                69983 non-null  float64\n",
      "dtypes: float64(3), object(1)\n",
      "memory usage: 2.1+ MB\n"
     ]
    }
   ],
   "source": [
    "df.info()"
   ]
  },
  {
   "cell_type": "markdown",
   "metadata": {},
   "source": [
    "## Plot features in time"
   ]
  },
  {
   "cell_type": "markdown",
   "metadata": {},
   "source": [
    "## Calculate Correlation Matrix"
   ]
  },
  {
   "cell_type": "code",
   "execution_count": 6,
   "metadata": {},
   "outputs": [
    {
     "data": {
      "image/png": "[encoded data removed]",
      "text/plain": [
       "<Figure size 648x432 with 2 Axes>"
      ]
     },
     "metadata": {
      "needs_background": "light"
     },
     "output_type": "display_data"
    }
   ],
   "source": [
    "f, ax = plt.subplots(figsize=(9, 6))\n",
    "corr_matrix = df.corr()\n",
    "sns.heatmap(corr_matrix, annot=True, ax=ax, cmap=plt.cm.Reds)\n",
    "plt.show()"
   ]
  },
  {
   "cell_type": "markdown",
   "metadata": {},
   "source": [
    "## Visualize statistical distribution of data"
   ]
  },
  {
   "cell_type": "markdown",
   "metadata": {},
   "source": [
    "### Boxplots: features and grouped by target value"
   ]
  },
  {
   "cell_type": "code",
   "execution_count": null,
   "metadata": {
    "tags": []
   },
   "outputs": [],
   "source": [
    "with sns.axes_style(\"whitegrid\"):\n",
    "    fig, axes = plt.subplots(2, n_features, figsize=(20, 20))\n",
    "    for num, name in enumerate(feature_names):\n",
    "        sns.boxplot(y=name, data=df, ax=axes[0,num])\n",
    "    for num, name in enumerate(feature_names):\n",
    "        sns.boxplot(x='DocumentSentiment', y=name, data=df, ax=axes[1,num])"
   ]
  },
  {
   "cell_type": "markdown",
   "metadata": {},
   "source": [
    "### Histograms: features"
   ]
  },
  {
   "cell_type": "code",
   "execution_count": null,
   "metadata": {},
   "outputs": [],
   "source": [
    "with sns.axes_style(\"ticks\"):    \n",
    "    for name in feature_names:\n",
    "        sns.displot(data=df, x=name)"
   ]
  },
  {
   "cell_type": "markdown",
   "metadata": {},
   "source": [
    "### PairdGrid: scatterplots, histograms and kde plots colored by target value"
   ]
  },
  {
   "cell_type": "code",
   "execution_count": null,
   "metadata": {},
   "outputs": [],
   "source": [
    "with sns.axes_style(\"ticks\"):\n",
    "    g = sns.PairGrid(df, hue=\"DocumentSentiment\", size=5)\n",
    "    g.map_diag(sns.histplot)\n",
    "    g.map_upper(sns.scatterplot)\n",
    "    g.map_lower(sns.kdeplot, levels=3)\n",
    "    g.add_legend()\n",
    "    plt.show()"
   ]
  },
  {
   "cell_type": "markdown",
   "metadata": {},
   "source": [
    "# Train models"
   ]
  },
  {
   "cell_type": "markdown",
   "metadata": {},
   "source": [
    "## Split Data"
   ]
  },
  {
   "cell_type": "code",
   "execution_count": 7,
   "metadata": {
    "tags": []
   },
   "outputs": [
    {
     "name": "stdout",
     "output_type": "stream",
     "text": [
      "Shapes: (52487, 3) (17496, 3) (52487,) (17496,)\n",
      "Target values distribution:\n",
      "Train:\n",
      " G    0.549412\n",
      "R    0.311182\n",
      "E    0.111075\n",
      "B    0.028331\n",
      "Name: DocumentSentiment, dtype: float64 \n",
      "Test:\n",
      " G    0.549440\n",
      "R    0.311157\n",
      "E    0.111111\n",
      "B    0.028292\n",
      "Name: DocumentSentiment, dtype: float64\n"
     ]
    }
   ],
   "source": [
    "from sklearn.model_selection import train_test_split\n",
    "X_train, X_test, y_train, y_test = train_test_split(X, y, test_size=0.25, random_state=1, stratify=y) \n",
    "print('Shapes:', X_train.shape, X_test.shape, y_train.shape, y_test.shape)\n",
    "print('Target values distribution:\\nTrain:\\n', y_train.value_counts(normalize=True), '\\nTest:\\n', y_test.value_counts(normalize=True))"
   ]
  },
  {
   "cell_type": "markdown",
   "metadata": {},
   "source": [
    "## Train a Decision Tree Classifier"
   ]
  },
  {
   "cell_type": "code",
   "execution_count": 8,
   "metadata": {},
   "outputs": [],
   "source": [
    "from sklearn.model_selection import GridSearchCV\n",
    "from sklearn import metrics"
   ]
  },
  {
   "cell_type": "markdown",
   "metadata": {},
   "source": [
    "### Hyperparameter Optimization (Grid Search with Cross Validation)"
   ]
  },
  {
   "cell_type": "code",
   "execution_count": 9,
   "metadata": {
    "tags": []
   },
   "outputs": [
    {
     "name": "stderr",
     "output_type": "stream",
     "text": [
      "C:\\Users\\Adrian Garcia Lopez\\anaconda3\\lib\\site-packages\\sklearn\\model_selection\\_validation.py:536: FitFailedWarning: Estimator fit failed. The score on this train-test partition for these parameters will be set to nan. Details: \n",
      "KeyError: 'giny'\n",
      "\n",
      "  FitFailedWarning)\n",
      "C:\\Users\\Adrian Garcia Lopez\\anaconda3\\lib\\site-packages\\sklearn\\model_selection\\_validation.py:536: FitFailedWarning: Estimator fit failed. The score on this train-test partition for these parameters will be set to nan. Details: \n",
      "KeyError: 'giny'\n",
      "\n",
      "  FitFailedWarning)\n",
      "C:\\Users\\Adrian Garcia Lopez\\anaconda3\\lib\\site-packages\\sklearn\\model_selection\\_validation.py:536: FitFailedWarning: Estimator fit failed. The score on this train-test partition for these parameters will be set to nan. Details: \n",
      "KeyError: 'giny'\n",
      "\n",
      "  FitFailedWarning)\n",
      "C:\\Users\\Adrian Garcia Lopez\\anaconda3\\lib\\site-packages\\sklearn\\model_selection\\_validation.py:536: FitFailedWarning: Estimator fit failed. The score on this train-test partition for these parameters will be set to nan. Details: \n",
      "KeyError: 'giny'\n",
      "\n",
      "  FitFailedWarning)\n",
      "C:\\Users\\Adrian Garcia Lopez\\anaconda3\\lib\\site-packages\\sklearn\\model_selection\\_validation.py:536: FitFailedWarning: Estimator fit failed. The score on this train-test partition for these parameters will be set to nan. Details: \n",
      "KeyError: 'giny'\n",
      "\n",
      "  FitFailedWarning)\n",
      "C:\\Users\\Adrian Garcia Lopez\\anaconda3\\lib\\site-packages\\sklearn\\model_selection\\_validation.py:536: FitFailedWarning: Estimator fit failed. The score on this train-test partition for these parameters will be set to nan. Details: \n",
      "KeyError: 'giny'\n",
      "\n",
      "  FitFailedWarning)\n",
      "C:\\Users\\Adrian Garcia Lopez\\anaconda3\\lib\\site-packages\\sklearn\\model_selection\\_validation.py:536: FitFailedWarning: Estimator fit failed. The score on this train-test partition for these parameters will be set to nan. Details: \n",
      "KeyError: 'giny'\n",
      "\n",
      "  FitFailedWarning)\n",
      "C:\\Users\\Adrian Garcia Lopez\\anaconda3\\lib\\site-packages\\sklearn\\model_selection\\_validation.py:536: FitFailedWarning: Estimator fit failed. The score on this train-test partition for these parameters will be set to nan. Details: \n",
      "KeyError: 'giny'\n",
      "\n",
      "  FitFailedWarning)\n",
      "C:\\Users\\Adrian Garcia Lopez\\anaconda3\\lib\\site-packages\\sklearn\\model_selection\\_validation.py:536: FitFailedWarning: Estimator fit failed. The score on this train-test partition for these parameters will be set to nan. Details: \n",
      "KeyError: 'giny'\n",
      "\n",
      "  FitFailedWarning)\n",
      "C:\\Users\\Adrian Garcia Lopez\\anaconda3\\lib\\site-packages\\sklearn\\model_selection\\_validation.py:536: FitFailedWarning: Estimator fit failed. The score on this train-test partition for these parameters will be set to nan. Details: \n",
      "KeyError: 'giny'\n",
      "\n",
      "  FitFailedWarning)\n",
      "C:\\Users\\Adrian Garcia Lopez\\anaconda3\\lib\\site-packages\\sklearn\\model_selection\\_validation.py:536: FitFailedWarning: Estimator fit failed. The score on this train-test partition for these parameters will be set to nan. Details: \n",
      "KeyError: 'giny'\n",
      "\n",
      "  FitFailedWarning)\n",
      "C:\\Users\\Adrian Garcia Lopez\\anaconda3\\lib\\site-packages\\sklearn\\model_selection\\_validation.py:536: FitFailedWarning: Estimator fit failed. The score on this train-test partition for these parameters will be set to nan. Details: \n",
      "KeyError: 'giny'\n",
      "\n",
      "  FitFailedWarning)\n",
      "C:\\Users\\Adrian Garcia Lopez\\anaconda3\\lib\\site-packages\\sklearn\\model_selection\\_validation.py:536: FitFailedWarning: Estimator fit failed. The score on this train-test partition for these parameters will be set to nan. Details: \n",
      "KeyError: 'giny'\n",
      "\n",
      "  FitFailedWarning)\n",
      "C:\\Users\\Adrian Garcia Lopez\\anaconda3\\lib\\site-packages\\sklearn\\model_selection\\_validation.py:536: FitFailedWarning: Estimator fit failed. The score on this train-test partition for these parameters will be set to nan. Details: \n",
      "KeyError: 'giny'\n",
      "\n",
      "  FitFailedWarning)\n",
      "C:\\Users\\Adrian Garcia Lopez\\anaconda3\\lib\\site-packages\\sklearn\\model_selection\\_validation.py:536: FitFailedWarning: Estimator fit failed. The score on this train-test partition for these parameters will be set to nan. Details: \n",
      "KeyError: 'giny'\n",
      "\n",
      "  FitFailedWarning)\n",
      "C:\\Users\\Adrian Garcia Lopez\\anaconda3\\lib\\site-packages\\sklearn\\model_selection\\_validation.py:536: FitFailedWarning: Estimator fit failed. The score on this train-test partition for these parameters will be set to nan. Details: \n",
      "KeyError: 'giny'\n",
      "\n",
      "  FitFailedWarning)\n",
      "C:\\Users\\Adrian Garcia Lopez\\anaconda3\\lib\\site-packages\\sklearn\\model_selection\\_validation.py:536: FitFailedWarning: Estimator fit failed. The score on this train-test partition for these parameters will be set to nan. Details: \n",
      "KeyError: 'giny'\n",
      "\n",
      "  FitFailedWarning)\n",
      "C:\\Users\\Adrian Garcia Lopez\\anaconda3\\lib\\site-packages\\sklearn\\model_selection\\_validation.py:536: FitFailedWarning: Estimator fit failed. The score on this train-test partition for these parameters will be set to nan. Details: \n",
      "KeyError: 'giny'\n",
      "\n",
      "  FitFailedWarning)\n",
      "C:\\Users\\Adrian Garcia Lopez\\anaconda3\\lib\\site-packages\\sklearn\\model_selection\\_validation.py:536: FitFailedWarning: Estimator fit failed. The score on this train-test partition for these parameters will be set to nan. Details: \n",
      "KeyError: 'giny'\n",
      "\n",
      "  FitFailedWarning)\n",
      "C:\\Users\\Adrian Garcia Lopez\\anaconda3\\lib\\site-packages\\sklearn\\model_selection\\_validation.py:536: FitFailedWarning: Estimator fit failed. The score on this train-test partition for these parameters will be set to nan. Details: \n",
      "KeyError: 'giny'\n",
      "\n",
      "  FitFailedWarning)\n",
      "C:\\Users\\Adrian Garcia Lopez\\anaconda3\\lib\\site-packages\\sklearn\\model_selection\\_validation.py:536: FitFailedWarning: Estimator fit failed. The score on this train-test partition for these parameters will be set to nan. Details: \n",
      "KeyError: 'giny'\n",
      "\n",
      "  FitFailedWarning)\n",
      "C:\\Users\\Adrian Garcia Lopez\\anaconda3\\lib\\site-packages\\sklearn\\model_selection\\_validation.py:536: FitFailedWarning: Estimator fit failed. The score on this train-test partition for these parameters will be set to nan. Details: \n",
      "KeyError: 'giny'\n",
      "\n",
      "  FitFailedWarning)\n",
      "C:\\Users\\Adrian Garcia Lopez\\anaconda3\\lib\\site-packages\\sklearn\\model_selection\\_validation.py:536: FitFailedWarning: Estimator fit failed. The score on this train-test partition for these parameters will be set to nan. Details: \n",
      "KeyError: 'giny'\n",
      "\n",
      "  FitFailedWarning)\n",
      "C:\\Users\\Adrian Garcia Lopez\\anaconda3\\lib\\site-packages\\sklearn\\model_selection\\_validation.py:536: FitFailedWarning: Estimator fit failed. The score on this train-test partition for these parameters will be set to nan. Details: \n",
      "KeyError: 'giny'\n",
      "\n",
      "  FitFailedWarning)\n",
      "C:\\Users\\Adrian Garcia Lopez\\anaconda3\\lib\\site-packages\\sklearn\\model_selection\\_validation.py:536: FitFailedWarning: Estimator fit failed. The score on this train-test partition for these parameters will be set to nan. Details: \n",
      "KeyError: 'giny'\n",
      "\n",
      "  FitFailedWarning)\n",
      "C:\\Users\\Adrian Garcia Lopez\\anaconda3\\lib\\site-packages\\sklearn\\model_selection\\_validation.py:536: FitFailedWarning: Estimator fit failed. The score on this train-test partition for these parameters will be set to nan. Details: \n",
      "KeyError: 'giny'\n",
      "\n",
      "  FitFailedWarning)\n",
      "C:\\Users\\Adrian Garcia Lopez\\anaconda3\\lib\\site-packages\\sklearn\\model_selection\\_validation.py:536: FitFailedWarning: Estimator fit failed. The score on this train-test partition for these parameters will be set to nan. Details: \n",
      "KeyError: 'giny'\n",
      "\n",
      "  FitFailedWarning)\n",
      "C:\\Users\\Adrian Garcia Lopez\\anaconda3\\lib\\site-packages\\sklearn\\model_selection\\_validation.py:536: FitFailedWarning: Estimator fit failed. The score on this train-test partition for these parameters will be set to nan. Details: \n",
      "KeyError: 'giny'\n",
      "\n",
      "  FitFailedWarning)\n",
      "C:\\Users\\Adrian Garcia Lopez\\anaconda3\\lib\\site-packages\\sklearn\\model_selection\\_validation.py:536: FitFailedWarning: Estimator fit failed. The score on this train-test partition for these parameters will be set to nan. Details: \n",
      "KeyError: 'giny'\n",
      "\n",
      "  FitFailedWarning)\n",
      "C:\\Users\\Adrian Garcia Lopez\\anaconda3\\lib\\site-packages\\sklearn\\model_selection\\_validation.py:536: FitFailedWarning: Estimator fit failed. The score on this train-test partition for these parameters will be set to nan. Details: \n",
      "KeyError: 'giny'\n",
      "\n",
      "  FitFailedWarning)\n",
      "C:\\Users\\Adrian Garcia Lopez\\anaconda3\\lib\\site-packages\\sklearn\\model_selection\\_validation.py:536: FitFailedWarning: Estimator fit failed. The score on this train-test partition for these parameters will be set to nan. Details: \n",
      "KeyError: 'giny'\n",
      "\n",
      "  FitFailedWarning)\n",
      "C:\\Users\\Adrian Garcia Lopez\\anaconda3\\lib\\site-packages\\sklearn\\model_selection\\_validation.py:536: FitFailedWarning: Estimator fit failed. The score on this train-test partition for these parameters will be set to nan. Details: \n",
      "KeyError: 'giny'\n",
      "\n",
      "  FitFailedWarning)\n",
      "C:\\Users\\Adrian Garcia Lopez\\anaconda3\\lib\\site-packages\\sklearn\\model_selection\\_validation.py:536: FitFailedWarning: Estimator fit failed. The score on this train-test partition for these parameters will be set to nan. Details: \n",
      "KeyError: 'giny'\n",
      "\n",
      "  FitFailedWarning)\n"
     ]
    },
    {
     "name": "stderr",
     "output_type": "stream",
     "text": [
      "C:\\Users\\Adrian Garcia Lopez\\anaconda3\\lib\\site-packages\\sklearn\\model_selection\\_validation.py:536: FitFailedWarning: Estimator fit failed. The score on this train-test partition for these parameters will be set to nan. Details: \n",
      "KeyError: 'giny'\n",
      "\n",
      "  FitFailedWarning)\n",
      "C:\\Users\\Adrian Garcia Lopez\\anaconda3\\lib\\site-packages\\sklearn\\model_selection\\_validation.py:536: FitFailedWarning: Estimator fit failed. The score on this train-test partition for these parameters will be set to nan. Details: \n",
      "KeyError: 'giny'\n",
      "\n",
      "  FitFailedWarning)\n",
      "C:\\Users\\Adrian Garcia Lopez\\anaconda3\\lib\\site-packages\\sklearn\\model_selection\\_validation.py:536: FitFailedWarning: Estimator fit failed. The score on this train-test partition for these parameters will be set to nan. Details: \n",
      "KeyError: 'giny'\n",
      "\n",
      "  FitFailedWarning)\n",
      "C:\\Users\\Adrian Garcia Lopez\\anaconda3\\lib\\site-packages\\sklearn\\model_selection\\_validation.py:536: FitFailedWarning: Estimator fit failed. The score on this train-test partition for these parameters will be set to nan. Details: \n",
      "KeyError: 'giny'\n",
      "\n",
      "  FitFailedWarning)\n",
      "C:\\Users\\Adrian Garcia Lopez\\anaconda3\\lib\\site-packages\\sklearn\\model_selection\\_validation.py:536: FitFailedWarning: Estimator fit failed. The score on this train-test partition for these parameters will be set to nan. Details: \n",
      "KeyError: 'giny'\n",
      "\n",
      "  FitFailedWarning)\n",
      "C:\\Users\\Adrian Garcia Lopez\\anaconda3\\lib\\site-packages\\sklearn\\model_selection\\_validation.py:536: FitFailedWarning: Estimator fit failed. The score on this train-test partition for these parameters will be set to nan. Details: \n",
      "KeyError: 'giny'\n",
      "\n",
      "  FitFailedWarning)\n",
      "C:\\Users\\Adrian Garcia Lopez\\anaconda3\\lib\\site-packages\\sklearn\\model_selection\\_validation.py:536: FitFailedWarning: Estimator fit failed. The score on this train-test partition for these parameters will be set to nan. Details: \n",
      "KeyError: 'giny'\n",
      "\n",
      "  FitFailedWarning)\n",
      "C:\\Users\\Adrian Garcia Lopez\\anaconda3\\lib\\site-packages\\sklearn\\model_selection\\_validation.py:536: FitFailedWarning: Estimator fit failed. The score on this train-test partition for these parameters will be set to nan. Details: \n",
      "KeyError: 'giny'\n",
      "\n",
      "  FitFailedWarning)\n",
      "C:\\Users\\Adrian Garcia Lopez\\anaconda3\\lib\\site-packages\\sklearn\\model_selection\\_validation.py:536: FitFailedWarning: Estimator fit failed. The score on this train-test partition for these parameters will be set to nan. Details: \n",
      "KeyError: 'giny'\n",
      "\n",
      "  FitFailedWarning)\n",
      "C:\\Users\\Adrian Garcia Lopez\\anaconda3\\lib\\site-packages\\sklearn\\model_selection\\_validation.py:536: FitFailedWarning: Estimator fit failed. The score on this train-test partition for these parameters will be set to nan. Details: \n",
      "KeyError: 'giny'\n",
      "\n",
      "  FitFailedWarning)\n",
      "C:\\Users\\Adrian Garcia Lopez\\anaconda3\\lib\\site-packages\\sklearn\\model_selection\\_validation.py:536: FitFailedWarning: Estimator fit failed. The score on this train-test partition for these parameters will be set to nan. Details: \n",
      "KeyError: 'giny'\n",
      "\n",
      "  FitFailedWarning)\n",
      "C:\\Users\\Adrian Garcia Lopez\\anaconda3\\lib\\site-packages\\sklearn\\model_selection\\_validation.py:536: FitFailedWarning: Estimator fit failed. The score on this train-test partition for these parameters will be set to nan. Details: \n",
      "KeyError: 'giny'\n",
      "\n",
      "  FitFailedWarning)\n"
     ]
    },
    {
     "name": "stdout",
     "output_type": "stream",
     "text": [
      "Best parameters:\n",
      " {'criterion': 'entropy', 'max_depth': 18}\n",
      "\n",
      "Model parameters:\n",
      " {'cv': 5, 'error_score': nan, 'estimator__ccp_alpha': 0.0, 'estimator__class_weight': None, 'estimator__criterion': 'gini', 'estimator__max_depth': None, 'estimator__max_features': None, 'estimator__max_leaf_nodes': None, 'estimator__min_impurity_decrease': 0.0, 'estimator__min_impurity_split': None, 'estimator__min_samples_leaf': 1, 'estimator__min_samples_split': 2, 'estimator__min_weight_fraction_leaf': 0.0, 'estimator__presort': 'deprecated', 'estimator__random_state': None, 'estimator__splitter': 'best', 'estimator': DecisionTreeClassifier(ccp_alpha=0.0, class_weight=None, criterion='gini',\n",
      "                       max_depth=None, max_features=None, max_leaf_nodes=None,\n",
      "                       min_impurity_decrease=0.0, min_impurity_split=None,\n",
      "                       min_samples_leaf=1, min_samples_split=2,\n",
      "                       min_weight_fraction_leaf=0.0, presort='deprecated',\n",
      "                       random_state=None, splitter='best'), 'iid': 'deprecated', 'n_jobs': None, 'param_grid': {'criterion': ('giny', 'entropy'), 'max_depth': [2, 4, 6, 8, 10, 12, 14, 16, 18]}, 'pre_dispatch': '2*n_jobs', 'refit': True, 'return_train_score': False, 'scoring': 'f1_macro', 'verbose': 0}\n"
     ]
    }
   ],
   "source": [
    "from sklearn.tree import DecisionTreeClassifier\n",
    "\n",
    "parameters = {'criterion':('giny', 'entropy'),\n",
    "                'max_depth': [2,4,6,8,10,12,14,16,18]}\n",
    "\n",
    "dt = DecisionTreeClassifier()\n",
    "clf = GridSearchCV(estimator=dt, param_grid=parameters, cv=5, scoring='f1_macro')\n",
    "clf = clf.fit(X_train, y_train)\n",
    "print('Best parameters:\\n', clf.best_params_)\n",
    "print('\\nModel parameters:\\n', clf.get_params())"
   ]
  },
  {
   "cell_type": "markdown",
   "metadata": {},
   "source": [
    "### Evaluate model"
   ]
  },
  {
   "cell_type": "code",
   "execution_count": 10,
   "metadata": {
    "tags": []
   },
   "outputs": [
    {
     "name": "stdout",
     "output_type": "stream",
     "text": [
      "Classification Report:\n",
      "               precision    recall  f1-score   support\n",
      "\n",
      "           B       0.02      0.00      0.00       495\n",
      "           E       0.14      0.02      0.04      1944\n",
      "           G       0.56      0.87      0.68      9613\n",
      "           R       0.36      0.14      0.21      5444\n",
      "\n",
      "    accuracy                           0.52     17496\n",
      "   macro avg       0.27      0.26      0.23     17496\n",
      "weighted avg       0.43      0.52      0.44     17496\n",
      "\n"
     ]
    },
    {
     "data": {
      "image/png": "[encoded data removed]",
      "text/plain": [
       "<Figure size 1080x576 with 4 Axes>"
      ]
     },
     "metadata": {},
     "output_type": "display_data"
    }
   ],
   "source": [
    "with sns.axes_style(\"white\"):\n",
    "    y_pred = clf.predict(X_test)\n",
    "    print('Classification Report:\\n',metrics.classification_report(y_test, y_pred))\n",
    "    fig, axes = plt.subplots(1, 2, figsize=(15,8))\n",
    "    metrics.plot_confusion_matrix(clf, X_test, y_test, cmap=plt.cm.Blues, ax=axes[0])\n",
    "    metrics.plot_confusion_matrix(clf, X_test, y_test, cmap=plt.cm.Blues, normalize='true', ax=axes[1])\n",
    "    axes[0].set_title('Confussion Matrix')\n",
    "    axes[1].set_title('Confussion Matrix - Normalized')\n",
    "    plt.show()"
   ]
  },
  {
   "cell_type": "markdown",
   "metadata": {},
   "source": [
    "## Train Support Vector Machine"
   ]
  },
  {
   "cell_type": "markdown",
   "metadata": {},
   "source": [
    "### Hyperparameter Optimization (Grid Search with Cross Validation)"
   ]
  },
  {
   "cell_type": "code",
   "execution_count": null,
   "metadata": {
    "tags": []
   },
   "outputs": [],
   "source": [
    "# from sklearn import svm\n",
    "\n",
    "# parameters = [{'kernel': ['rbf'], 'gamma': [1,0.1,0.001,0.0001], 'C': [1, 10, 100, 1000]},\n",
    "#                 {'kernel': ['poly'], 'C': [1, 10, 100, 1000]}]\n",
    "\n",
    "# svc = svm.SVC()\n",
    "# clf = GridSearchCV(estimator=svc, param_grid=parameters, cv=5, scoring='f1_macro')\n",
    "# clf = clf.fit(X_train, y_train)\n",
    "# print('Best parameters:\\n', clf.best_params_)\n",
    "# print('\\nModel parameters:\\n', clf.get_params())"
   ]
  },
  {
   "cell_type": "markdown",
   "metadata": {},
   "source": [
    "### Evaluate model"
   ]
  },
  {
   "cell_type": "code",
   "execution_count": null,
   "metadata": {
    "tags": []
   },
   "outputs": [],
   "source": [
    "with sns.axes_style(\"white\"):\n",
    "    y_pred = clf.predict(X_test)\n",
    "    print('Classification Report:\\n',metrics.classification_report(y_test, y_pred))\n",
    "    fig, axes = plt.subplots(1, 2, figsize=(15,8))\n",
    "    metrics.plot_confusion_matrix(clf, X_test, y_test, cmap=plt.cm.Blues, ax=axes[0])\n",
    "    metrics.plot_confusion_matrix(clf, X_test, y_test, cmap=plt.cm.Blues, normalize='true', ax=axes[1])\n",
    "    axes[0].set_title('Confussion Matrix')\n",
    "    axes[1].set_title('Confussion Matrix - Normalized')\n",
    "    plt.show()"
   ]
  },
  {
   "cell_type": "markdown",
   "metadata": {},
   "source": [
    "## Train Neural Network"
   ]
  },
  {
   "cell_type": "code",
   "execution_count": 11,
   "metadata": {},
   "outputs": [],
   "source": [
    "#plt.style.use('ggplot')\n",
    "#%matplotlib inline\n",
    "from sklearn.preprocessing import OneHotEncoder, StandardScaler"
   ]
  },
  {
   "cell_type": "markdown",
   "metadata": {},
   "source": [
    "### Scale features and encode target values"
   ]
  },
  {
   "cell_type": "code",
   "execution_count": 12,
   "metadata": {},
   "outputs": [],
   "source": [
    "enc = OneHotEncoder()\n",
    "Y = enc.fit_transform(y[:, np.newaxis]).toarray()\n",
    "scaler = StandardScaler()\n",
    "X_scaled = scaler.fit_transform(X)"
   ]
  },
  {
   "cell_type": "markdown",
   "metadata": {},
   "source": [
    "### Split transformed data"
   ]
  },
  {
   "cell_type": "code",
   "execution_count": 13,
   "metadata": {},
   "outputs": [],
   "source": [
    "X_train, X_test, Y_train, Y_test = train_test_split(X_scaled, Y, test_size=0.25, stratify=Y)\n",
    "\n",
    "n_features = X.shape[1]\n",
    "n_classes = Y.shape[1]"
   ]
  },
  {
   "cell_type": "code",
   "execution_count": 14,
   "metadata": {
    "tags": []
   },
   "outputs": [
    {
     "name": "stdout",
     "output_type": "stream",
     "text": [
      "Model: \"model_3\"\n",
      "_________________________________________________________________\n",
      "Layer (type)                 Output Shape              Param #   \n",
      "=================================================================\n",
      "dense (Dense)                (None, 10)                40        \n",
      "_________________________________________________________________\n",
      "dense_1 (Dense)              (None, 10)                110       \n",
      "_________________________________________________________________\n",
      "dense_2 (Dense)              (None, 10)                110       \n",
      "_________________________________________________________________\n",
      "dense_3 (Dense)              (None, 4)                 44        \n",
      "=================================================================\n",
      "Total params: 304\n",
      "Trainable params: 304\n",
      "Non-trainable params: 0\n",
      "_________________________________________________________________\n",
      "Model: \"model_4\"\n",
      "_________________________________________________________________\n",
      "Layer (type)                 Output Shape              Param #   \n",
      "=================================================================\n",
      "dense_4 (Dense)              (None, 10)                40        \n",
      "_________________________________________________________________\n",
      "dense_5 (Dense)              (None, 10)                110       \n",
      "_________________________________________________________________\n",
      "dense_6 (Dense)              (None, 10)                110       \n",
      "_________________________________________________________________\n",
      "dense_7 (Dense)              (None, 10)                110       \n",
      "_________________________________________________________________\n",
      "dense_8 (Dense)              (None, 4)                 44        \n",
      "=================================================================\n",
      "Total params: 414\n",
      "Trainable params: 414\n",
      "Non-trainable params: 0\n",
      "_________________________________________________________________\n",
      "Model: \"model_5\"\n",
      "_________________________________________________________________\n",
      "Layer (type)                 Output Shape              Param #   \n",
      "=================================================================\n",
      "dense_9 (Dense)              (None, 10)                40        \n",
      "_________________________________________________________________\n",
      "dense_10 (Dense)             (None, 10)                110       \n",
      "_________________________________________________________________\n",
      "dense_11 (Dense)             (None, 10)                110       \n",
      "_________________________________________________________________\n",
      "dense_12 (Dense)             (None, 10)                110       \n",
      "_________________________________________________________________\n",
      "dense_13 (Dense)             (None, 10)                110       \n",
      "_________________________________________________________________\n",
      "dense_14 (Dense)             (None, 4)                 44        \n",
      "=================================================================\n",
      "Total params: 524\n",
      "Trainable params: 524\n",
      "Non-trainable params: 0\n",
      "_________________________________________________________________\n",
      "Model: \"model_6\"\n",
      "_________________________________________________________________\n",
      "Layer (type)                 Output Shape              Param #   \n",
      "=================================================================\n",
      "dense_15 (Dense)             (None, 10)                40        \n",
      "_________________________________________________________________\n",
      "dense_16 (Dense)             (None, 10)                110       \n",
      "_________________________________________________________________\n",
      "dense_17 (Dense)             (None, 10)                110       \n",
      "_________________________________________________________________\n",
      "dense_18 (Dense)             (None, 10)                110       \n",
      "_________________________________________________________________\n",
      "dense_19 (Dense)             (None, 10)                110       \n",
      "_________________________________________________________________\n",
      "dense_20 (Dense)             (None, 10)                110       \n",
      "_________________________________________________________________\n",
      "dense_21 (Dense)             (None, 4)                 44        \n",
      "=================================================================\n",
      "Total params: 634\n",
      "Trainable params: 634\n",
      "Non-trainable params: 0\n",
      "_________________________________________________________________\n",
      "Model: \"model_7\"\n",
      "_________________________________________________________________\n",
      "Layer (type)                 Output Shape              Param #   \n",
      "=================================================================\n",
      "dense_22 (Dense)             (None, 10)                40        \n",
      "_________________________________________________________________\n",
      "dense_23 (Dense)             (None, 10)                110       \n",
      "_________________________________________________________________\n",
      "dense_24 (Dense)             (None, 10)                110       \n",
      "_________________________________________________________________\n",
      "dense_25 (Dense)             (None, 10)                110       \n",
      "_________________________________________________________________\n",
      "dense_26 (Dense)             (None, 10)                110       \n",
      "_________________________________________________________________\n",
      "dense_27 (Dense)             (None, 10)                110       \n",
      "_________________________________________________________________\n",
      "dense_28 (Dense)             (None, 10)                110       \n",
      "_________________________________________________________________\n",
      "dense_29 (Dense)             (None, 4)                 44        \n",
      "=================================================================\n",
      "Total params: 744\n",
      "Trainable params: 744\n",
      "Non-trainable params: 0\n",
      "_________________________________________________________________\n",
      "Model: \"model_8\"\n",
      "_________________________________________________________________\n",
      "Layer (type)                 Output Shape              Param #   \n",
      "=================================================================\n",
      "dense_30 (Dense)             (None, 10)                40        \n",
      "_________________________________________________________________\n",
      "dense_31 (Dense)             (None, 10)                110       \n",
      "_________________________________________________________________\n",
      "dense_32 (Dense)             (None, 10)                110       \n",
      "_________________________________________________________________\n",
      "dense_33 (Dense)             (None, 10)                110       \n",
      "_________________________________________________________________\n",
      "dense_34 (Dense)             (None, 10)                110       \n",
      "_________________________________________________________________\n",
      "dense_35 (Dense)             (None, 10)                110       \n",
      "_________________________________________________________________\n",
      "dense_36 (Dense)             (None, 10)                110       \n",
      "_________________________________________________________________\n",
      "dense_37 (Dense)             (None, 10)                110       \n",
      "_________________________________________________________________\n",
      "dense_38 (Dense)             (None, 4)                 44        \n",
      "=================================================================\n",
      "Total params: 854\n",
      "Trainable params: 854\n",
      "Non-trainable params: 0\n",
      "_________________________________________________________________\n",
      "Model: \"model_9\"\n",
      "_________________________________________________________________\n",
      "Layer (type)                 Output Shape              Param #   \n",
      "=================================================================\n",
      "dense_39 (Dense)             (None, 10)                40        \n",
      "_________________________________________________________________\n",
      "dense_40 (Dense)             (None, 10)                110       \n",
      "_________________________________________________________________\n",
      "dense_41 (Dense)             (None, 10)                110       \n",
      "_________________________________________________________________\n",
      "dense_42 (Dense)             (None, 10)                110       \n",
      "_________________________________________________________________\n",
      "dense_43 (Dense)             (None, 10)                110       \n",
      "_________________________________________________________________\n",
      "dense_44 (Dense)             (None, 10)                110       \n",
      "_________________________________________________________________\n",
      "dense_45 (Dense)             (None, 10)                110       \n",
      "_________________________________________________________________\n",
      "dense_46 (Dense)             (None, 10)                110       \n",
      "_________________________________________________________________\n",
      "dense_47 (Dense)             (None, 10)                110       \n",
      "_________________________________________________________________\n",
      "dense_48 (Dense)             (None, 4)                 44        \n",
      "=================================================================\n",
      "Total params: 964\n",
      "Trainable params: 964\n",
      "Non-trainable params: 0\n",
      "_________________________________________________________________\n",
      "Model: \"model_10\"\n",
      "_________________________________________________________________\n",
      "Layer (type)                 Output Shape              Param #   \n",
      "=================================================================\n",
      "dense_49 (Dense)             (None, 10)                40        \n",
      "_________________________________________________________________\n",
      "dense_50 (Dense)             (None, 10)                110       \n",
      "_________________________________________________________________\n",
      "dense_51 (Dense)             (None, 10)                110       \n",
      "_________________________________________________________________\n",
      "dense_52 (Dense)             (None, 10)                110       \n",
      "_________________________________________________________________\n",
      "dense_53 (Dense)             (None, 10)                110       \n",
      "_________________________________________________________________\n",
      "dense_54 (Dense)             (None, 10)                110       \n",
      "_________________________________________________________________\n",
      "dense_55 (Dense)             (None, 10)                110       \n",
      "_________________________________________________________________\n",
      "dense_56 (Dense)             (None, 10)                110       \n",
      "_________________________________________________________________\n",
      "dense_57 (Dense)             (None, 10)                110       \n",
      "_________________________________________________________________\n",
      "dense_58 (Dense)             (None, 10)                110       \n",
      "_________________________________________________________________\n",
      "dense_59 (Dense)             (None, 4)                 44        \n",
      "=================================================================\n",
      "Total params: 1,074\n",
      "Trainable params: 1,074\n",
      "Non-trainable params: 0\n",
      "_________________________________________________________________\n",
      "Model: \"model_11\"\n",
      "_________________________________________________________________\n",
      "Layer (type)                 Output Shape              Param #   \n",
      "=================================================================\n",
      "dense_60 (Dense)             (None, 10)                40        \n",
      "_________________________________________________________________\n",
      "dense_61 (Dense)             (None, 10)                110       \n",
      "_________________________________________________________________\n",
      "dense_62 (Dense)             (None, 10)                110       \n",
      "_________________________________________________________________\n",
      "dense_63 (Dense)             (None, 10)                110       \n",
      "_________________________________________________________________\n",
      "dense_64 (Dense)             (None, 10)                110       \n",
      "_________________________________________________________________\n",
      "dense_65 (Dense)             (None, 10)                110       \n",
      "_________________________________________________________________\n",
      "dense_66 (Dense)             (None, 10)                110       \n",
      "_________________________________________________________________\n",
      "dense_67 (Dense)             (None, 10)                110       \n",
      "_________________________________________________________________\n",
      "dense_68 (Dense)             (None, 10)                110       \n",
      "_________________________________________________________________\n",
      "dense_69 (Dense)             (None, 10)                110       \n",
      "_________________________________________________________________\n",
      "dense_70 (Dense)             (None, 10)                110       \n",
      "_________________________________________________________________\n",
      "dense_71 (Dense)             (None, 4)                 44        \n",
      "=================================================================\n",
      "Total params: 1,184\n",
      "Trainable params: 1,184\n",
      "Non-trainable params: 0\n",
      "_________________________________________________________________\n"
     ]
    }
   ],
   "source": [
    "import warnings\n",
    "warnings.simplefilter(action='ignore', category=FutureWarning)\n",
    "\n",
    "from keras.models import Sequential\n",
    "from keras.layers import Dense\n",
    "\n",
    "def create_custom_model(input_dim, output_dim, nodes, n=1, name='model'):\n",
    "    def create_model():\n",
    "        # Create model\n",
    "        model = Sequential(name=name)\n",
    "        for i in range(n):\n",
    "            model.add(Dense(nodes, input_dim=input_dim, activation='relu'))\n",
    "        model.add(Dense(output_dim, activation='softmax'))\n",
    "\n",
    "        # Compile model\n",
    "        model.compile(loss='categorical_crossentropy', \n",
    "                      optimizer='adam', \n",
    "                      metrics=['accuracy'])\n",
    "        return model\n",
    "    return create_model\n",
    "\n",
    "models = [create_custom_model(n_features, n_classes, 10, i, 'model_{}'.format(i)) \n",
    "          for i in range(3, 12)]\n",
    "\n",
    "for create_model in models:\n",
    "    create_model().summary()"
   ]
  },
  {
   "cell_type": "code",
   "execution_count": null,
   "metadata": {
    "tags": []
   },
   "outputs": [
    {
     "name": "stdout",
     "output_type": "stream",
     "text": [
      "Model name: model_3\n",
      "WARNING:tensorflow:From C:\\Users\\Adrian Garcia Lopez\\anaconda3\\lib\\site-packages\\tensorflow\\python\\ops\\summary_ops_v2.py:1277: stop (from tensorflow.python.eager.profiler) is deprecated and will be removed after 2020-07-01.\n",
      "Instructions for updating:\n",
      "use `tf.profiler.experimental.stop` instead.\n",
      "WARNING:tensorflow:Callbacks method `on_train_batch_end` is slow compared to the batch time (batch time: 0.0010s vs `on_train_batch_end` time: 0.8467s). Check your callbacks.\n",
      "Test loss: 1.0233383178710938\n",
      "Test accuracy: 0.5497828125953674\n",
      "Model name: model_4\n",
      "WARNING:tensorflow:Callbacks method `on_train_batch_begin` is slow compared to the batch time (batch time: 0.0010s vs `on_train_batch_begin` time: 0.0020s). Check your callbacks.\n",
      "WARNING:tensorflow:Callbacks method `on_train_batch_end` is slow compared to the batch time (batch time: 0.0010s vs `on_train_batch_end` time: 0.8605s). Check your callbacks.\n",
      "Test loss: 1.025726556777954\n",
      "Test accuracy: 0.550297200679779\n",
      "Model name: model_5\n",
      "WARNING:tensorflow:Callbacks method `on_train_batch_begin` is slow compared to the batch time (batch time: 0.0010s vs `on_train_batch_begin` time: 0.0030s). Check your callbacks.\n",
      "WARNING:tensorflow:Callbacks method `on_train_batch_end` is slow compared to the batch time (batch time: 0.0010s vs `on_train_batch_end` time: 0.8564s). Check your callbacks.\n",
      "Test loss: 1.0236151218414307\n",
      "Test accuracy: 0.5517261028289795\n",
      "Model name: model_6\n",
      "WARNING:tensorflow:Callbacks method `on_train_batch_end` is slow compared to the batch time (batch time: 0.0020s vs `on_train_batch_end` time: 0.8631s). Check your callbacks.\n",
      "Test loss: 1.024571180343628\n",
      "Test accuracy: 0.550297200679779\n",
      "Model name: model_7\n",
      "WARNING:tensorflow:Callbacks method `on_train_batch_end` is slow compared to the batch time (batch time: 0.0020s vs `on_train_batch_end` time: 0.8652s). Check your callbacks.\n",
      "Test loss: 1.0231295824050903\n",
      "Test accuracy: 0.5512688755989075\n",
      "Model name: model_8\n",
      "WARNING:tensorflow:Callbacks method `on_train_batch_begin` is slow compared to the batch time (batch time: 0.0010s vs `on_train_batch_begin` time: 0.0020s). Check your callbacks.\n",
      "WARNING:tensorflow:Callbacks method `on_train_batch_end` is slow compared to the batch time (batch time: 0.0010s vs `on_train_batch_end` time: 0.9042s). Check your callbacks.\n"
     ]
    }
   ],
   "source": [
    "from keras.callbacks import TensorBoard\n",
    "\n",
    "history_dict = {}\n",
    "\n",
    "cb = TensorBoard()\n",
    "\n",
    "for create_model in models:\n",
    "    model = create_model()\n",
    "    print('Model name:', model.name)\n",
    "    history_callback = model.fit(X_train, Y_train,\n",
    "                                 batch_size=5,\n",
    "                                 epochs=50,\n",
    "                                 verbose=0,\n",
    "                                 validation_data=(X_test, Y_test),\n",
    "                                 callbacks=[cb])\n",
    "    score = model.evaluate(X_test, Y_test, verbose=0)\n",
    "    print('Test loss:', score[0])\n",
    "    print('Test accuracy:', score[1])\n",
    "    history_dict[model.name] = [history_callback, model]"
   ]
  },
  {
   "cell_type": "code",
   "execution_count": null,
   "metadata": {},
   "outputs": [],
   "source": [
    "fig, (ax1, ax2) = plt.subplots(2, figsize=(8, 6))\n",
    "\n",
    "for model_name in history_dict:\n",
    "    val_acc = history_dict[model_name][0].history['accuracy']\n",
    "    print(\"val_acc: \", val_acc)\n",
    "    val_loss = history_dict[model_name][0].history['val_loss']\n",
    "    print(\"val_loss: \", val_loss)\n",
    "    ax1.plot(val_acc, label=model_name)\n",
    "    ax2.plot(val_loss, label=model_name)\n",
    "    \n",
    "ax1.set_ylabel('validation accuracy')\n",
    "ax2.set_ylabel('validation loss')\n",
    "ax2.set_xlabel('epochs')\n",
    "ax1.legend()\n",
    "ax2.legend()\n",
    "plt.show()"
   ]
  },
  {
   "cell_type": "code",
   "execution_count": null,
   "metadata": {},
   "outputs": [],
   "source": [
    "from sklearn.metrics import roc_curve, auc\n",
    "\n",
    "plt.figure(figsize=(10, 10))\n",
    "plt.plot([0, 1], [0, 1], 'k--')\n",
    "\n",
    "for model_name in history_dict:\n",
    "    model = history_dict[model_name][1]\n",
    "    \n",
    "    Y_pred = model.predict(X_test)\n",
    "    fpr, tpr, threshold = roc_curve(Y_test.ravel(), Y_pred.ravel())\n",
    "    \n",
    "    plt.plot(fpr, tpr, label='{}, AUC = {:.3f}'.format(model_name, auc(fpr, tpr)))\n",
    "plt.xlabel('False positive rate')\n",
    "plt.ylabel('True positive rate')\n",
    "plt.title('ROC curve')\n",
    "plt.legend();"
   ]
  },
  {
   "cell_type": "markdown",
   "metadata": {},
   "source": [
    "### Train Neural Network with best parameters"
   ]
  },
  {
   "cell_type": "code",
   "execution_count": null,
   "metadata": {
    "tags": []
   },
   "outputs": [],
   "source": [
    "from keras.wrappers.scikit_learn import KerasClassifier\n",
    "from sklearn.model_selection import cross_val_score\n",
    "\n",
    "create_model = create_custom_model(n_features, n_classes, 10, 9)\n",
    "\n",
    "clf = KerasClassifier(build_fn=create_model, epochs=100, batch_size=5, verbose=0)\n",
    "clf.fit(X_train, Y_train)"
   ]
  },
  {
   "cell_type": "code",
   "execution_count": null,
   "metadata": {
    "tags": []
   },
   "outputs": [],
   "source": [
    "with sns.axes_style(\"white\"):\n",
    "    y_pred = clf.predict(X_test)\n",
    "    y_test = Y_test.argmax(axis=1)\n",
    "    target_names_ = sorted(target_names)\n",
    "    print('Classification Report:\\n',metrics.classification_report(y_test, y_pred, target_names=target_names_))\n",
    "    fig, axes = plt.subplots(1, 2, figsize=(15,8))\n",
    "    sns.heatmap(metrics.confusion_matrix(y_test, y_pred), annot=True, cmap=plt.cm.Blues, fmt='.4g', xticklabels=target_names_, yticklabels=target_names_, ax=axes[0])\n",
    "    sns.heatmap(metrics.confusion_matrix(y_test, y_pred, normalize='true'), annot=True, cmap=plt.cm.Blues, xticklabels=target_names_, yticklabels=target_names_, ax=axes[1])\n",
    "    axes[0].set_title('Confussion Matrix')\n",
    "    axes[1].set_title('Confussion Matrix - Normalized')\n",
    "    plt.show()"
   ]
  }
 ],
 "metadata": {
  "kernelspec": {
   "display_name": "Python 3",
   "language": "python",
   "name": "python3"
  },
  "language_info": {
   "codemirror_mode": {
    "name": "ipython",
    "version": 3
   },
   "file_extension": ".py",
   "mimetype": "text/x-python",
   "name": "python",
   "nbconvert_exporter": "python",
   "pygments_lexer": "ipython3",
   "version": "3.7.6"
  }
 },
 "nbformat": 4,
 "nbformat_minor": 2
}
