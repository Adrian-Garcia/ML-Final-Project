{
 "cells": [
  {
   "cell_type": "code",
   "execution_count": null,
   "metadata": {},
   "outputs": [],
   "source": [
    "import pandas as pd\n",
    "import matplotlib.pyplot as plt\n",
    "import numpy as np\n",
    "import seaborn as sns"
   ]
  },
  {
   "cell_type": "code",
   "execution_count": 33,
   "metadata": {},
   "outputs": [
    {
     "data": {
      "text/plain": [
       "0     G\n",
       "1     E\n",
       "2     R\n",
       "3     E\n",
       "4     G\n",
       "5     E\n",
       "6     E\n",
       "7     G\n",
       "8     R\n",
       "9     R\n",
       "10    B\n",
       "11    E\n",
       "12    B\n",
       "13    R\n",
       "14    G\n",
       "Name: DocumentSentiment, dtype: object"
      ]
     },
     "execution_count": 33,
     "metadata": {},
     "output_type": "execute_result"
    }
   ],
   "source": [
    "# Load dataset\n",
    "df = pd.read_csv(\"ECOAS_MachineLearning_202013_puntajes.csv\", encoding=\"latin-1\")\n",
    "\n",
    "'''\n",
    "Excellent   E\n",
    "Good        G\n",
    "Regular     R\n",
    "Bad         B\n",
    "'''\n",
    "# np.logical_and(a>=6, a<=10)\n",
    "df['DocumentSentiment'] = np.where(df['DocumentSentiment'] > 0.25, 4, df['DocumentSentiment'])\n",
    "df['DocumentSentiment'] = np.where(np.logical_and(df['DocumentSentiment'] <= 0.25, df['DocumentSentiment'] > 0), 3, df['DocumentSentiment'])\n",
    "df['DocumentSentiment'] = np.where(np.logical_and(df['DocumentSentiment'] <= 0, df['DocumentSentiment'] > -0.25), 2, df['DocumentSentiment'])\n",
    "df['DocumentSentiment'] = np.where(df['DocumentSentiment'] < -0.25, 1, df['DocumentSentiment'])\n",
    "\n",
    "df['DocumentSentiment'] = np.where(df['DocumentSentiment'] == 4.0, 'E', df['DocumentSentiment'])\n",
    "df['DocumentSentiment'] = np.where(df['DocumentSentiment'] == \"3.0\", 'G', df['DocumentSentiment'])\n",
    "df['DocumentSentiment'] = np.where(df['DocumentSentiment'] == \"2.0\", 'R', df['DocumentSentiment'])\n",
    "df['DocumentSentiment'] = np.where(df['DocumentSentiment'] == \"1.0\", 'B', df['DocumentSentiment'])\n",
    "\n",
    "df = df.drop(['ID', 'Rectoría', 'Campus', 'Tamaño', 'Latitud', 'Longitud', 'División', \n",
    "              'Departamento', 'AnonMateria', 'crn', 'Pregunta', 'NominaFict', 'TipoProfesor',\n",
    "              'ProfesorTitular', 'Comentarios', 'sentimiento', 'Categoria', 'Subcategoria', \n",
    "              'EntitiesList'], axis=1)\n",
    "\n",
    "# Get target and feature names\n",
    "target_names = df['DocumentSentiment'].unique().tolist()\n",
    "feature_names = ['APR', 'RET', 'REC']\n",
    "\n",
    "# Get number of features and target names\n",
    "n_targets = len(target_names)\n",
    "n_features = len(feature_names)\n",
    "\n",
    "# Separate features and target columns\n",
    "X = df[feature_names]\n",
    "y = df['DocumentSentiment']"
   ]
  },
  {
   "cell_type": "code",
   "execution_count": 1,
   "metadata": {},
   "outputs": [
    {
     "data": {
      "text/html": [
       "<div>\n",
       "<style scoped>\n",
       "    .dataframe tbody tr th:only-of-type {\n",
       "        vertical-align: middle;\n",
       "    }\n",
       "\n",
       "    .dataframe tbody tr th {\n",
       "        vertical-align: top;\n",
       "    }\n",
       "\n",
       "    .dataframe thead th {\n",
       "        text-align: right;\n",
       "    }\n",
       "</style>\n",
       "<table border=\"1\" class=\"dataframe\">\n",
       "  <thead>\n",
       "    <tr style=\"text-align: right;\">\n",
       "      <th></th>\n",
       "      <th>ID</th>\n",
       "      <th>Rectoría</th>\n",
       "      <th>Campus</th>\n",
       "      <th>Tamaño</th>\n",
       "      <th>Latitud</th>\n",
       "      <th>Longitud</th>\n",
       "      <th>División</th>\n",
       "      <th>Departamento</th>\n",
       "      <th>AnonMateria</th>\n",
       "      <th>crn</th>\n",
       "      <th>...</th>\n",
       "      <th>ProfesorTitular</th>\n",
       "      <th>Comentarios</th>\n",
       "      <th>DocumentSentiment</th>\n",
       "      <th>sentimiento</th>\n",
       "      <th>Categoria</th>\n",
       "      <th>Subcategoria</th>\n",
       "      <th>EntitiesList</th>\n",
       "      <th>APR</th>\n",
       "      <th>RET</th>\n",
       "      <th>REC</th>\n",
       "    </tr>\n",
       "  </thead>\n",
       "  <tbody>\n",
       "    <tr>\n",
       "      <th>0</th>\n",
       "      <td>1</td>\n",
       "      <td>0</td>\n",
       "      <td>Monterrey</td>\n",
       "      <td>Grande</td>\n",
       "      <td>25.652217</td>\n",
       "      <td>-100.289794</td>\n",
       "      <td>IN -Esc. Ingeniería y Ciencias</td>\n",
       "      <td>0</td>\n",
       "      <td>1</td>\n",
       "      <td>9785</td>\n",
       "      <td>...</td>\n",
       "      <td>SI</td>\n",
       "      <td>hace ejercicios con aplicaciones en la vida real</td>\n",
       "      <td>3.0</td>\n",
       "      <td>Positivo</td>\n",
       "      <td>0</td>\n",
       "      <td>0</td>\n",
       "      <td>NaN</td>\n",
       "      <td>9.59</td>\n",
       "      <td>9.67</td>\n",
       "      <td>9.41</td>\n",
       "    </tr>\n",
       "    <tr>\n",
       "      <th>1</th>\n",
       "      <td>2</td>\n",
       "      <td>0</td>\n",
       "      <td>Monterrey</td>\n",
       "      <td>Grande</td>\n",
       "      <td>25.652217</td>\n",
       "      <td>-100.289794</td>\n",
       "      <td>IN -Esc. Ingeniería y Ciencias</td>\n",
       "      <td>0</td>\n",
       "      <td>1</td>\n",
       "      <td>9785</td>\n",
       "      <td>...</td>\n",
       "      <td>SI</td>\n",
       "      <td>le importa y se preocupa por sus alumnos siemp...</td>\n",
       "      <td>4.0</td>\n",
       "      <td>Positivo</td>\n",
       "      <td>1</td>\n",
       "      <td>1</td>\n",
       "      <td>NaN</td>\n",
       "      <td>9.59</td>\n",
       "      <td>9.67</td>\n",
       "      <td>9.41</td>\n",
       "    </tr>\n",
       "    <tr>\n",
       "      <th>2</th>\n",
       "      <td>3</td>\n",
       "      <td>0</td>\n",
       "      <td>Monterrey</td>\n",
       "      <td>Grande</td>\n",
       "      <td>25.652217</td>\n",
       "      <td>-100.289794</td>\n",
       "      <td>IN -Esc. Ingeniería y Ciencias</td>\n",
       "      <td>0</td>\n",
       "      <td>1</td>\n",
       "      <td>9785</td>\n",
       "      <td>...</td>\n",
       "      <td>SI</td>\n",
       "      <td>muy bu</td>\n",
       "      <td>3.0</td>\n",
       "      <td>Neutral</td>\n",
       "      <td>2</td>\n",
       "      <td>2</td>\n",
       "      <td>NaN</td>\n",
       "      <td>9.59</td>\n",
       "      <td>9.67</td>\n",
       "      <td>9.41</td>\n",
       "    </tr>\n",
       "    <tr>\n",
       "      <th>3</th>\n",
       "      <td>4</td>\n",
       "      <td>0</td>\n",
       "      <td>Monterrey</td>\n",
       "      <td>Grande</td>\n",
       "      <td>25.652217</td>\n",
       "      <td>-100.289794</td>\n",
       "      <td>IN -Esc. Ingeniería y Ciencias</td>\n",
       "      <td>0</td>\n",
       "      <td>1</td>\n",
       "      <td>9785</td>\n",
       "      <td>...</td>\n",
       "      <td>SI</td>\n",
       "      <td>muy buena maestra. explica muy bien, y buena a...</td>\n",
       "      <td>4.0</td>\n",
       "      <td>Positivo</td>\n",
       "      <td>0</td>\n",
       "      <td>0</td>\n",
       "      <td>buena actitud</td>\n",
       "      <td>9.59</td>\n",
       "      <td>9.67</td>\n",
       "      <td>9.41</td>\n",
       "    </tr>\n",
       "    <tr>\n",
       "      <th>4</th>\n",
       "      <td>5</td>\n",
       "      <td>0</td>\n",
       "      <td>Monterrey</td>\n",
       "      <td>Grande</td>\n",
       "      <td>25.652217</td>\n",
       "      <td>-100.289794</td>\n",
       "      <td>IN -Esc. Ingeniería y Ciencias</td>\n",
       "      <td>0</td>\n",
       "      <td>1</td>\n",
       "      <td>9785</td>\n",
       "      <td>...</td>\n",
       "      <td>SI</td>\n",
       "      <td>posee amplios conocimientos, por lo que siempr...</td>\n",
       "      <td>3.0</td>\n",
       "      <td>Positivo</td>\n",
       "      <td>0</td>\n",
       "      <td>0</td>\n",
       "      <td>NaN</td>\n",
       "      <td>9.59</td>\n",
       "      <td>9.67</td>\n",
       "      <td>9.41</td>\n",
       "    </tr>\n",
       "  </tbody>\n",
       "</table>\n",
       "<p>5 rows × 23 columns</p>\n",
       "</div>"
      ],
      "text/plain": [
       "   ID  Rectoría     Campus  Tamaño    Latitud    Longitud  \\\n",
       "0   1         0  Monterrey  Grande  25.652217 -100.289794   \n",
       "1   2         0  Monterrey  Grande  25.652217 -100.289794   \n",
       "2   3         0  Monterrey  Grande  25.652217 -100.289794   \n",
       "3   4         0  Monterrey  Grande  25.652217 -100.289794   \n",
       "4   5         0  Monterrey  Grande  25.652217 -100.289794   \n",
       "\n",
       "                         División  Departamento  AnonMateria   crn  ...  \\\n",
       "0  IN -Esc. Ingeniería y Ciencias             0            1  9785  ...   \n",
       "1  IN -Esc. Ingeniería y Ciencias             0            1  9785  ...   \n",
       "2  IN -Esc. Ingeniería y Ciencias             0            1  9785  ...   \n",
       "3  IN -Esc. Ingeniería y Ciencias             0            1  9785  ...   \n",
       "4  IN -Esc. Ingeniería y Ciencias             0            1  9785  ...   \n",
       "\n",
       "  ProfesorTitular                                        Comentarios  \\\n",
       "0              SI   hace ejercicios con aplicaciones en la vida real   \n",
       "1              SI  le importa y se preocupa por sus alumnos siemp...   \n",
       "2              SI                                             muy bu   \n",
       "3              SI  muy buena maestra. explica muy bien, y buena a...   \n",
       "4              SI  posee amplios conocimientos, por lo que siempr...   \n",
       "\n",
       "   DocumentSentiment sentimiento Categoria  Subcategoria   EntitiesList   APR  \\\n",
       "0                3.0    Positivo         0             0            NaN  9.59   \n",
       "1                4.0    Positivo         1             1            NaN  9.59   \n",
       "2                3.0     Neutral         2             2            NaN  9.59   \n",
       "3                4.0    Positivo         0             0  buena actitud  9.59   \n",
       "4                3.0    Positivo         0             0            NaN  9.59   \n",
       "\n",
       "    RET   REC  \n",
       "0  9.67  9.41  \n",
       "1  9.67  9.41  \n",
       "2  9.67  9.41  \n",
       "3  9.67  9.41  \n",
       "4  9.67  9.41  \n",
       "\n",
       "[5 rows x 23 columns]"
      ]
     },
     "execution_count": 1,
     "metadata": {},
     "output_type": "execute_result"
    }
   ],
   "source": [
    "import pandas as pd\n",
    "import seaborn as sn\n",
    "import matplotlib.pyplot as plt\n",
    "import numpy as np\n",
    "import seaborn as sns\n",
    "\n",
    "data = pd.read_csv(\"ECOAS_MachineLearning_202013_puntajes.csv\", encoding=\"latin-1\")\n",
    "\n",
    "# Convert cualitative variables to quantitative \n",
    "data['Categoria'] = pd.factorize(data.Categoria)[0]\n",
    "data['Subcategoria'] = pd.factorize(data.Subcategoria)[0]\n",
    "data['TipoProfesor'] = pd.factorize(data.TipoProfesor)[0]\n",
    "data['Departamento'] = pd.factorize(data.Departamento)[0]\n",
    "data['Rectoría'] = pd.factorize(data.Rectoría)[0]\n",
    "\n",
    "# Convert Document Sentiment to cualitative\n",
    "data['DocumentSentiment'] = np.where(data['DocumentSentiment'] >= 0.25, 4, data['DocumentSentiment'])\n",
    "data['DocumentSentiment'] = np.where(data['DocumentSentiment'] < 0.25, 3, data['DocumentSentiment'])\n",
    "data['DocumentSentiment'] = np.where(data['DocumentSentiment'] < 0, 2, data['DocumentSentiment'])\n",
    "data['DocumentSentiment'] = np.where(data['DocumentSentiment'] < -0.25, 1, data['DocumentSentiment'])\n",
    "# data['DocumentSentiment'] = np.where(data['DocumentSentiment'] == 4, 'Excellent', data['DocumentSentiment'])\n",
    "# data['DocumentSentiment'] = np.where(data['DocumentSentiment'] == '3', 'Good', data['DocumentSentiment'])\n",
    "# data['DocumentSentiment'] = np.where(data['DocumentSentiment'] == '2', 'Regular', data['DocumentSentiment'])\n",
    "# data['DocumentSentiment'] = np.where(data['DocumentSentiment'] == '1', 'Bad', data['DocumentSentiment'])\n",
    "\n",
    "data.head()"
   ]
  },
  {
   "cell_type": "code",
   "execution_count": 2,
   "metadata": {},
   "outputs": [],
   "source": [
    "# df = pd.DataFrame(data,columns=['DocumentSentiment','Categoria','Subcategoria', 'TipoProfesor', 'Departamento', 'Rectoría', 'APR', 'RET', 'REC'])\n",
    "df = pd.DataFrame(data,columns=['DocumentSentiment', 'APR', 'RET', 'REC'])\n",
    "\n",
    "# target_names = df['DocumentSentiment'].unique().tolist()\n",
    "# feature_names = df.drop(['DocumentSentiment'], axis=1).columns.tolist()\n",
    "\n",
    "# n_targets = len(target_names)\n",
    "# n_features = len(feature_names)\n",
    "\n",
    "# X = df[feature_names]\n",
    "# y = df['DocumentSentiment']\n",
    "\n",
    "#split dataset in features and target variable\n",
    "# feature_cols = ['Categoria','Subcategoria', 'TipoProfesor', 'Departamento', 'Rectoría', 'APR', 'RET', 'REC']\n",
    "feature_cols = ['APR', 'RET', 'REC']\n",
    "X = data[feature_cols] # Features (independent variables)\n",
    "y = data.DocumentSentiment # Target variable\n",
    "\n",
    "# newY = []\n",
    "# for i in y:\n",
    "#     newY.append( int(i * 100))\n",
    "    \n",
    "# y = newY"
   ]
  },
  {
   "cell_type": "code",
   "execution_count": 3,
   "metadata": {},
   "outputs": [
    {
     "data": {
      "image/png": "[encoded data removed]",
      "text/plain": [
       "<Figure size 432x288 with 2 Axes>"
      ]
     },
     "metadata": {
      "needs_background": "light"
     },
     "output_type": "display_data"
    }
   ],
   "source": [
    "corrMatrix = df.corr()\n",
    "sn.heatmap(corrMatrix, annot=True)\n",
    "plt.show()"
   ]
  },
  {
   "cell_type": "markdown",
   "metadata": {},
   "source": [
    "# Train models"
   ]
  },
  {
   "cell_type": "code",
   "execution_count": null,
   "metadata": {},
   "outputs": [],
   "source": [
    "from sklearn import preprocessing\n",
    "from sklearn import utils\n",
    "from sklearn.tree import DecisionTreeClassifier # Import Decision Tree Classifier\n",
    "from sklearn.model_selection import train_test_split # Import train_test_split function\n",
    "from sklearn import metrics #Import scikit-learn metrics module for accuracy calculation"
   ]
  },
  {
   "cell_type": "markdown",
   "metadata": {},
   "source": [
    "## Split Data"
   ]
  },
  {
   "cell_type": "code",
   "execution_count": null,
   "metadata": {},
   "outputs": [],
   "source": [
    "from sklearn.model_selection import train_test_split\n",
    "X_train, X_test, y_train, y_test = train_test_split(X, y, test_size=0.3, random_state=1) \n",
    "# print('Shapes:', X_train.shape, X_test.shape, y_train.shape, y_test.shape)\n",
    "# print('Target values distribution:\\nTrain:\\n', y_train.value_counts(normalize=True), '\\nTest:\\n', y_test.value_counts(normalize=True))"
   ]
  },
  {
   "cell_type": "code",
   "execution_count": null,
   "metadata": {},
   "outputs": [],
   "source": [
    "# Create Decision Tree classifer object\n",
    "clf = DecisionTreeClassifier()\n",
    "\n",
    "# Train Decision Tree Classifer\n",
    "clf = clf.fit(X_train,y_train)\n",
    "\n",
    "#Predict the response for test dataset\n",
    "y_pred = clf.predict(X_test)"
   ]
  },
  {
   "cell_type": "code",
   "execution_count": null,
   "metadata": {},
   "outputs": [],
   "source": [
    "# Model Accuracy, how often is the classifier correct?\n",
    "print(\"Accuracy:\",metrics.accuracy_score(y_test, y_pred))"
   ]
  },
  {
   "cell_type": "code",
   "execution_count": null,
   "metadata": {},
   "outputs": [],
   "source": [
    "# from sklearn.tree import export_graphviz\n",
    "# from sklearn.externals.six import StringIO  \n",
    "# from IPython.display import Image  \n",
    "# import pydotplus\n",
    "\n",
    "# dot_data = StringIO()\n",
    "# export_graphviz(clf, out_file=dot_data, \n",
    "#                 filled=True, rounded=True,\n",
    "#                 special_characters=True,feature_names = feature_cols)\n",
    "# graph = pydotplus.graph_from_dot_data(dot_data.getvalue())  \n",
    "# graph.write_png('DocumentSentiment.png')\n",
    "# Image(graph.create_png())"
   ]
  },
  {
   "cell_type": "code",
   "execution_count": null,
   "metadata": {},
   "outputs": [],
   "source": [
    "# Create Decision Tree classifer object\n",
    "clf = DecisionTreeClassifier(criterion=\"entropy\", max_depth=3)\n",
    "\n",
    "# Train Decision Tree Classifer\n",
    "clf = clf.fit(X_train,y_train)\n",
    "\n",
    "#Predict the response for test dataset\n",
    "y_pred = clf.predict(X_test)\n",
    "\n",
    "# Model Accuracy, how often is the classifier correct?\n",
    "print(\"Accuracy:\",metrics.accuracy_score(y_test, y_pred))"
   ]
  },
  {
   "cell_type": "code",
   "execution_count": null,
   "metadata": {},
   "outputs": [],
   "source": [
    "# from sklearn.externals.six import StringIO  \n",
    "# from IPython.display import Image  \n",
    "# from sklearn.tree import export_graphviz\n",
    "# import pydotplus\n",
    "# dot_data = StringIO()\n",
    "# export_graphviz(clf, out_file=dot_data,  \n",
    "#                 filled=True, rounded=True,\n",
    "#                 special_characters=True, feature_names = feature_cols)\n",
    "# graph = pydotplus.graph_from_dot_data(dot_data.getvalue())  \n",
    "# graph.write_png('DocumentSentiment2.png')\n",
    "# Image(graph.create_png())"
   ]
  },
  {
   "cell_type": "code",
   "execution_count": null,
   "metadata": {},
   "outputs": [],
   "source": [
    "# Create Decision Tree classifer object\n",
    "clf = DecisionTreeClassifier(criterion=\"gini\", max_depth=3)\n",
    "\n",
    "# Train Decision Tree Classifer\n",
    "clf = clf.fit(X_train,y_train)\n",
    "\n",
    "#Predict the response for test dataset\n",
    "y_pred = clf.predict(X_test)\n",
    "\n",
    "# Model Accuracy, how often is the classifier correct?\n",
    "print(\"Accuracy:\",metrics.accuracy_score(y_test, y_pred))"
   ]
  },
  {
   "cell_type": "code",
   "execution_count": null,
   "metadata": {},
   "outputs": [],
   "source": [
    "# from sklearn.externals.six import StringIO  \n",
    "# from IPython.display import Image  \n",
    "# from sklearn.tree import export_graphviz\n",
    "# import pydotplus\n",
    "# dot_data = StringIO()\n",
    "# export_graphviz(clf, out_file=dot_data,  \n",
    "#                 filled=True, rounded=True,\n",
    "#                 special_characters=True, feature_names = feature_cols)\n",
    "# graph = pydotplus.graph_from_dot_data(dot_data.getvalue())  \n",
    "# graph.write_png('DocumentSentiment3.png')\n",
    "# Image(graph.create_png())"
   ]
  },
  {
   "cell_type": "markdown",
   "metadata": {},
   "source": [
    "### Train Support Vector Machine"
   ]
  },
  {
   "cell_type": "code",
   "execution_count": null,
   "metadata": {},
   "outputs": [],
   "source": [
    "# from sklearn import svm\n",
    "# from sklearn.model_selection import GridSearchCV\n",
    "\n",
    "# parameters = [{'kernel': ['rbf'], 'gamma': [1,0.1,0.001,0.0001], 'C': [1, 10, 100, 1000]},\n",
    "#                 {'kernel': ['poly'], 'C': [1, 10, 100, 1000]}]\n",
    "\n",
    "# svc = svm.SVC()\n",
    "# clf = GridSearchCV(estimator=svc, param_grid=parameters, cv=5, scoring='f1_macro')\n",
    "# clf = clf.fit(X_train, y_train)\n",
    "# print('Best parameters:\\n', clf.best_params_)\n",
    "# print('\\nModel parameters:\\n', clf.get_params())"
   ]
  },
  {
   "cell_type": "code",
   "execution_count": null,
   "metadata": {},
   "outputs": [],
   "source": [
    "# Evaluate\n",
    "with sns.axes_style(\"white\"):\n",
    "    y_pred = clf.predict(X_test)\n",
    "    print('Classification Report:\\n',metrics.classification_report(y_test, y_pred))\n",
    "    fig, axes = plt.subplots(1, 2, figsize=(15,8))\n",
    "    metrics.plot_confusion_matrix(clf, X_test, y_test, cmap=plt.cm.Blues, ax=axes[0])\n",
    "    metrics.plot_confusion_matrix(clf, X_test, y_test, cmap=plt.cm.Blues, normalize='true', ax=axes[1])\n",
    "    axes[0].set_title('Confussion Matrix')\n",
    "    axes[1].set_title('Confussion Matrix - Normalized')\n",
    "    plt.show()"
   ]
  },
  {
   "cell_type": "markdown",
   "metadata": {},
   "source": [
    "## Train Neural Network"
   ]
  },
  {
   "cell_type": "code",
   "execution_count": 4,
   "metadata": {},
   "outputs": [],
   "source": [
    "from sklearn.preprocessing import OneHotEncoder, StandardScaler\n",
    "import matplotlib.pyplot as plt\n",
    "plt.style.use('ggplot')\n",
    "%matplotlib inline"
   ]
  },
  {
   "cell_type": "markdown",
   "metadata": {},
   "source": [
    "### Scale features and encode target values"
   ]
  },
  {
   "cell_type": "code",
   "execution_count": 5,
   "metadata": {},
   "outputs": [],
   "source": [
    "from sklearn.datasets import load_iris\n",
    "from sklearn.model_selection import train_test_split\n",
    "from sklearn.preprocessing import OneHotEncoder, StandardScaler"
   ]
  },
  {
   "cell_type": "code",
   "execution_count": 6,
   "metadata": {},
   "outputs": [
    {
     "name": "stdout",
     "output_type": "stream",
     "text": [
      "<class 'pandas.core.frame.DataFrame'>\n",
      "RangeIndex: 69983 entries, 0 to 69982\n",
      "Data columns (total 4 columns):\n",
      " #   Column             Non-Null Count  Dtype  \n",
      "---  ------             --------------  -----  \n",
      " 0   DocumentSentiment  69983 non-null  float64\n",
      " 1   APR                69983 non-null  float64\n",
      " 2   RET                69983 non-null  float64\n",
      " 3   REC                69983 non-null  float64\n",
      "dtypes: float64(4)\n",
      "memory usage: 2.1 MB\n"
     ]
    },
    {
     "data": {
      "text/html": [
       "<div>\n",
       "<style scoped>\n",
       "    .dataframe tbody tr th:only-of-type {\n",
       "        vertical-align: middle;\n",
       "    }\n",
       "\n",
       "    .dataframe tbody tr th {\n",
       "        vertical-align: top;\n",
       "    }\n",
       "\n",
       "    .dataframe thead th {\n",
       "        text-align: right;\n",
       "    }\n",
       "</style>\n",
       "<table border=\"1\" class=\"dataframe\">\n",
       "  <thead>\n",
       "    <tr style=\"text-align: right;\">\n",
       "      <th></th>\n",
       "      <th>DocumentSentiment</th>\n",
       "      <th>APR</th>\n",
       "      <th>RET</th>\n",
       "      <th>REC</th>\n",
       "    </tr>\n",
       "  </thead>\n",
       "  <tbody>\n",
       "    <tr>\n",
       "      <th>0</th>\n",
       "      <td>3.0</td>\n",
       "      <td>9.59</td>\n",
       "      <td>9.67</td>\n",
       "      <td>9.41</td>\n",
       "    </tr>\n",
       "    <tr>\n",
       "      <th>1</th>\n",
       "      <td>4.0</td>\n",
       "      <td>9.59</td>\n",
       "      <td>9.67</td>\n",
       "      <td>9.41</td>\n",
       "    </tr>\n",
       "    <tr>\n",
       "      <th>2</th>\n",
       "      <td>3.0</td>\n",
       "      <td>9.59</td>\n",
       "      <td>9.67</td>\n",
       "      <td>9.41</td>\n",
       "    </tr>\n",
       "    <tr>\n",
       "      <th>3</th>\n",
       "      <td>4.0</td>\n",
       "      <td>9.59</td>\n",
       "      <td>9.67</td>\n",
       "      <td>9.41</td>\n",
       "    </tr>\n",
       "    <tr>\n",
       "      <th>4</th>\n",
       "      <td>3.0</td>\n",
       "      <td>9.59</td>\n",
       "      <td>9.67</td>\n",
       "      <td>9.41</td>\n",
       "    </tr>\n",
       "  </tbody>\n",
       "</table>\n",
       "</div>"
      ],
      "text/plain": [
       "   DocumentSentiment   APR   RET   REC\n",
       "0                3.0  9.59  9.67  9.41\n",
       "1                4.0  9.59  9.67  9.41\n",
       "2                3.0  9.59  9.67  9.41\n",
       "3                4.0  9.59  9.67  9.41\n",
       "4                3.0  9.59  9.67  9.41"
      ]
     },
     "execution_count": 6,
     "metadata": {},
     "output_type": "execute_result"
    }
   ],
   "source": [
    "df.info()\n",
    "df.head()"
   ]
  },
  {
   "cell_type": "code",
   "execution_count": 7,
   "metadata": {},
   "outputs": [],
   "source": [
    "new_y = np.array(y)\n",
    "y = new_y"
   ]
  },
  {
   "cell_type": "code",
   "execution_count": 8,
   "metadata": {},
   "outputs": [],
   "source": [
    "new_X = np.array(X)\n",
    "X = new_X "
   ]
  },
  {
   "cell_type": "code",
   "execution_count": 9,
   "metadata": {},
   "outputs": [],
   "source": [
    "enc = OneHotEncoder(categories='auto')\n",
    "Y = enc.fit_transform(y[:, np.newaxis]).toarray()\n",
    "\n",
    "scaler = StandardScaler()\n",
    "X_scaled = scaler.fit_transform(X)"
   ]
  },
  {
   "cell_type": "code",
   "execution_count": 10,
   "metadata": {},
   "outputs": [],
   "source": [
    "# Split the data set into training and testing\n",
    "X_train, X_test, Y_train, Y_test = train_test_split(\n",
    "    X_scaled, Y, test_size=0.5, random_state=2)\n",
    "\n",
    "n_features = X.shape[1]\n",
    "n_classes = Y.shape[1]"
   ]
  },
  {
   "cell_type": "code",
   "execution_count": 11,
   "metadata": {},
   "outputs": [
    {
     "data": {
      "image/png": "[encoded data removed]",
      "text/plain": [
       "<Figure size 1152x432 with 2 Axes>"
      ]
     },
     "metadata": {
      "needs_background": "light"
     },
     "output_type": "display_data"
    }
   ],
   "source": [
    "# Visualize the data sets\n",
    "plt.figure(figsize=(16, 6))\n",
    "plt.subplot(1, 2, 1)\n",
    "for target, target_name in enumerate(feature_cols):\n",
    "    X_plot = X[y == target]\n",
    "    plt.plot(X_plot[:, 0], X_plot[:, 1], linestyle='none', marker='o', label=target_name)\n",
    "# plt.xlabel(feature_names[0])\n",
    "# plt.ylabel(feature_names[1])\n",
    "plt.axis('equal')\n",
    "plt.legend();\n",
    "\n",
    "plt.subplot(1, 2, 2)\n",
    "for target, target_name in enumerate(feature_cols):\n",
    "    X_plot = X[y == target]\n",
    "    plt.plot(X_plot[:, 2], X_plot[:, 1], linestyle='none', marker='o', label=target_name)\n",
    "# plt.xlabel(feature_names[2])\n",
    "# plt.ylabel(feature_names[3])\n",
    "plt.axis('equal')\n",
    "plt.legend();"
   ]
  },
  {
   "cell_type": "code",
   "execution_count": 12,
   "metadata": {},
   "outputs": [
    {
     "name": "stdout",
     "output_type": "stream",
     "text": [
      "Model: \"model_1\"\n",
      "_________________________________________________________________\n",
      "Layer (type)                 Output Shape              Param #   \n",
      "=================================================================\n",
      "dense (Dense)                (None, 8)                 32        \n",
      "_________________________________________________________________\n",
      "dense_1 (Dense)              (None, 2)                 18        \n",
      "=================================================================\n",
      "Total params: 50\n",
      "Trainable params: 50\n",
      "Non-trainable params: 0\n",
      "_________________________________________________________________\n",
      "Model: \"model_2\"\n",
      "_________________________________________________________________\n",
      "Layer (type)                 Output Shape              Param #   \n",
      "=================================================================\n",
      "dense_2 (Dense)              (None, 8)                 32        \n",
      "_________________________________________________________________\n",
      "dense_3 (Dense)              (None, 8)                 72        \n",
      "_________________________________________________________________\n",
      "dense_4 (Dense)              (None, 2)                 18        \n",
      "=================================================================\n",
      "Total params: 122\n",
      "Trainable params: 122\n",
      "Non-trainable params: 0\n",
      "_________________________________________________________________\n",
      "Model: \"model_3\"\n",
      "_________________________________________________________________\n",
      "Layer (type)                 Output Shape              Param #   \n",
      "=================================================================\n",
      "dense_5 (Dense)              (None, 8)                 32        \n",
      "_________________________________________________________________\n",
      "dense_6 (Dense)              (None, 8)                 72        \n",
      "_________________________________________________________________\n",
      "dense_7 (Dense)              (None, 8)                 72        \n",
      "_________________________________________________________________\n",
      "dense_8 (Dense)              (None, 2)                 18        \n",
      "=================================================================\n",
      "Total params: 194\n",
      "Trainable params: 194\n",
      "Non-trainable params: 0\n",
      "_________________________________________________________________\n"
     ]
    }
   ],
   "source": [
    "# In order to ignore FutureWarning\n",
    "import warnings\n",
    "warnings.simplefilter(action='ignore', category=FutureWarning)\n",
    "\n",
    "from keras.models import Sequential\n",
    "from keras.layers import Dense\n",
    "\n",
    "def create_custom_model(input_dim, output_dim, nodes, n=1, name='model'):\n",
    "    def create_model():\n",
    "        # Create model\n",
    "        model = Sequential(name=name)\n",
    "        for i in range(n):\n",
    "            model.add(Dense(nodes, input_dim=input_dim, activation='relu'))\n",
    "        model.add(Dense(output_dim, activation='softmax'))\n",
    "\n",
    "        # Compile model\n",
    "        model.compile(loss='categorical_crossentropy', \n",
    "                      optimizer='adam', \n",
    "                      metrics=['accuracy'])\n",
    "        return model\n",
    "    return create_model\n",
    "\n",
    "models = [create_custom_model(n_features, n_classes, 8, i, 'model_{}'.format(i)) \n",
    "          for i in range(1, 4)]\n",
    "\n",
    "for create_model in models:\n",
    "    create_model().summary()"
   ]
  },
  {
   "cell_type": "code",
   "execution_count": 13,
   "metadata": {},
   "outputs": [
    {
     "name": "stdout",
     "output_type": "stream",
     "text": [
      "Model name: model_1\n",
      "WARNING:tensorflow:From C:\\Users\\Adrian Garcia Lopez\\anaconda3\\lib\\site-packages\\tensorflow\\python\\ops\\summary_ops_v2.py:1277: stop (from tensorflow.python.eager.profiler) is deprecated and will be removed after 2020-07-01.\n",
      "Instructions for updating:\n",
      "use `tf.profiler.experimental.stop` instead.\n",
      "WARNING:tensorflow:Callbacks method `on_train_batch_end` is slow compared to the batch time (batch time: 0.0011s vs `on_train_batch_end` time: 0.8547s). Check your callbacks.\n",
      "Test loss: 0.6770450472831726\n",
      "Test accuracy: 0.5718449950218201\n",
      "Model name: model_2\n",
      "WARNING:tensorflow:Callbacks method `on_train_batch_begin` is slow compared to the batch time (batch time: 0.0000s vs `on_train_batch_begin` time: 0.0081s). Check your callbacks.\n",
      "WARNING:tensorflow:Callbacks method `on_train_batch_end` is slow compared to the batch time (batch time: 0.0000s vs `on_train_batch_end` time: 0.8494s). Check your callbacks.\n",
      "Test loss: 0.6771941781044006\n",
      "Test accuracy: 0.570644736289978\n",
      "Model name: model_3\n",
      "WARNING:tensorflow:Callbacks method `on_train_batch_end` is slow compared to the batch time (batch time: 0.0020s vs `on_train_batch_end` time: 1.1920s). Check your callbacks.\n",
      "Test loss: 0.677992582321167\n",
      "Test accuracy: 0.5663294196128845\n"
     ]
    }
   ],
   "source": [
    "from keras.callbacks import TensorBoard\n",
    "\n",
    "history_dict = {}\n",
    "\n",
    "# TensorBoard Callback\n",
    "cb = TensorBoard()\n",
    "\n",
    "for create_model in models:\n",
    "    model = create_model()\n",
    "    print('Model name:', model.name)\n",
    "    history_callback = model.fit(X_train, Y_train,\n",
    "                                 batch_size=5,\n",
    "                                 epochs=50,\n",
    "                                 verbose=0,\n",
    "                                 validation_data=(X_test, Y_test),\n",
    "                                 callbacks=[cb])\n",
    "    score = model.evaluate(X_test, Y_test, verbose=0)\n",
    "    print('Test loss:', score[0])\n",
    "    print('Test accuracy:', score[1])\n",
    "    \n",
    "    history_dict[model.name] = [history_callback, model]"
   ]
  },
  {
   "cell_type": "code",
   "execution_count": null,
   "metadata": {},
   "outputs": [],
   "source": [
    "from keras.wrappers.scikit_learn import KerasClassifier\n",
    "from sklearn.model_selection import cross_val_score\n",
    "\n",
    "create_model = create_custom_model(n_features, n_classes, 8, 3)\n",
    "\n",
    "estimator = KerasClassifier(build_fn=create_model, epochs=100, batch_size=5, verbose=0)\n",
    "scores = cross_val_score(estimator, X_scaled, Y, cv=10)\n",
    "print(\"Accuracy : {:0.2f} (+/- {:0.2f})\".format(scores.mean(), scores.std()))"
   ]
  },
  {
   "cell_type": "code",
   "execution_count": null,
   "metadata": {},
   "outputs": [],
   "source": []
  }
 ],
 "metadata": {
  "kernelspec": {
   "display_name": "Python 3",
   "language": "python",
   "name": "python3"
  },
  "language_info": {
   "codemirror_mode": {
    "name": "ipython",
    "version": 3
   },
   "file_extension": ".py",
   "mimetype": "text/x-python",
   "name": "python",
   "nbconvert_exporter": "python",
   "pygments_lexer": "ipython3",
   "version": "3.7.6"
  }
 },
 "nbformat": 4,
 "nbformat_minor": 4
}
